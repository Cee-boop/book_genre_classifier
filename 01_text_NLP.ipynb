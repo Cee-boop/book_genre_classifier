{
 "cells": [
  {
   "cell_type": "markdown",
   "id": "7ef032d6-d5da-4dba-9518-7f7d445a6917",
   "metadata": {},
   "source": [
    "# NLP"
   ]
  },
  {
   "cell_type": "markdown",
   "id": "bce25bf2-ad14-4d9e-bfa4-b9dd17bb4c3b",
   "metadata": {},
   "source": [
    "### Goals:\n",
    "- Gain a better understanding of text preprocessing\n",
    "- Create a term document matrix based on a text / genre corpus\n",
    "- Create a new dataframe with all text from a specific genre within a single cell"
   ]
  },
  {
   "cell_type": "markdown",
   "id": "af27c422-3594-4f96-b329-ddb10b2ef684",
   "metadata": {},
   "source": [
    "The data I'm using is a modified dataset from Kaggle. I've scraped all book texts from the corresponding book's Goodreads page."
   ]
  },
  {
   "cell_type": "code",
   "execution_count": 91,
   "id": "b8f98f69-8425-4026-91e3-1500cc401768",
   "metadata": {},
   "outputs": [],
   "source": [
    "import re\n",
    "import numpy as np\n",
    "import pandas as pd\n",
    "from langdetect import detect\n",
    "from tqdm.notebook import tqdm\n",
    "_\n",
    "# NLP\n",
    "import nltk\n",
    "from nltk.tag import pos_tag\n",
    "from nltk.corpus import stopwords\n",
    "from unicodedata import normalize\n",
    "from nltk.tokenize import word_tokenize\n",
    "from nltk.sentiment import SentimentIntensityAnalyzer"
   ]
  },
  {
   "cell_type": "code",
   "execution_count": 92,
   "id": "f6a41f62-0d84-45e6-82c9-c7097f049c6a",
   "metadata": {},
   "outputs": [
    {
     "name": "stdout",
     "output_type": "stream",
     "text": [
      "(5701, 5) \n",
      "\n"
     ]
    },
    {
     "data": {
      "text/html": [
       "<div>\n",
       "<style scoped>\n",
       "    .dataframe tbody tr th:only-of-type {\n",
       "        vertical-align: middle;\n",
       "    }\n",
       "\n",
       "    .dataframe tbody tr th {\n",
       "        vertical-align: top;\n",
       "    }\n",
       "\n",
       "    .dataframe thead th {\n",
       "        text-align: right;\n",
       "    }\n",
       "</style>\n",
       "<table border=\"1\" class=\"dataframe\">\n",
       "  <thead>\n",
       "    <tr style=\"text-align: right;\">\n",
       "      <th></th>\n",
       "      <th>id</th>\n",
       "      <th>title</th>\n",
       "      <th>author</th>\n",
       "      <th>genre</th>\n",
       "      <th>text</th>\n",
       "    </tr>\n",
       "  </thead>\n",
       "  <tbody>\n",
       "    <tr>\n",
       "      <th>0</th>\n",
       "      <td>1</td>\n",
       "      <td>The Hunger Games</td>\n",
       "      <td>Suzanne Collins</td>\n",
       "      <td>Fantasy</td>\n",
       "      <td>Could you survive on your own in the wild, wit...</td>\n",
       "    </tr>\n",
       "    <tr>\n",
       "      <th>1</th>\n",
       "      <td>2</td>\n",
       "      <td>Harry Potter and the Sorcerers Stone</td>\n",
       "      <td>J.K. Rowling</td>\n",
       "      <td>Fantasy</td>\n",
       "      <td>Harry Potter has no idea how famous he is. Tha...</td>\n",
       "    </tr>\n",
       "    <tr>\n",
       "      <th>2</th>\n",
       "      <td>3</td>\n",
       "      <td>Twilight</td>\n",
       "      <td>Stephenie Meyer</td>\n",
       "      <td>Romance</td>\n",
       "      <td>About three things I was absolutely positive.F...</td>\n",
       "    </tr>\n",
       "    <tr>\n",
       "      <th>3</th>\n",
       "      <td>5</td>\n",
       "      <td>The Great Gatsby</td>\n",
       "      <td>F. Scott Fitzgerald</td>\n",
       "      <td>Romance</td>\n",
       "      <td>The Great Gatsby, F. Scott Fitzgerald's third ...</td>\n",
       "    </tr>\n",
       "    <tr>\n",
       "      <th>4</th>\n",
       "      <td>7</td>\n",
       "      <td>The Hobbit</td>\n",
       "      <td>J.R.R. Tolkien</td>\n",
       "      <td>Fantasy</td>\n",
       "      <td>In a hole in the ground there lived a hobbit. ...</td>\n",
       "    </tr>\n",
       "  </tbody>\n",
       "</table>\n",
       "</div>"
      ],
      "text/plain": [
       "   id                                 title               author    genre  \\\n",
       "0   1                      The Hunger Games      Suzanne Collins  Fantasy   \n",
       "1   2  Harry Potter and the Sorcerers Stone         J.K. Rowling  Fantasy   \n",
       "2   3                              Twilight      Stephenie Meyer  Romance   \n",
       "3   5                      The Great Gatsby  F. Scott Fitzgerald  Romance   \n",
       "4   7                            The Hobbit       J.R.R. Tolkien  Fantasy   \n",
       "\n",
       "                                                text  \n",
       "0  Could you survive on your own in the wild, wit...  \n",
       "1  Harry Potter has no idea how famous he is. Tha...  \n",
       "2  About three things I was absolutely positive.F...  \n",
       "3  The Great Gatsby, F. Scott Fitzgerald's third ...  \n",
       "4  In a hole in the ground there lived a hobbit. ...  "
      ]
     },
     "execution_count": 92,
     "metadata": {},
     "output_type": "execute_result"
    }
   ],
   "source": [
    "# df = pd.read_csv('original_datasets/books_CLEANED.csv')\n",
    "# df = df[df['genre'] != 'Nonfiction'] # Remove nonficion books\n",
    "_\n",
    "df = pd.read_csv(\"original_datasets/my_books_CLEANED.csv\")\n",
    "df = df[['id', 'title', 'author', 'genre', 'text']]  # Reorder columns\n",
    "_\n",
    "print(df.shape, '\\n')\n",
    "df.head()"
   ]
  },
  {
   "cell_type": "markdown",
   "id": "ffdfafff-3a60-4030-9654-961e8ce6f6cc",
   "metadata": {},
   "source": [
    "### Preprocess `text`"
   ]
  },
  {
   "cell_type": "code",
   "execution_count": 93,
   "id": "35e6b64f-ebca-434d-b27b-238495342800",
   "metadata": {},
   "outputs": [],
   "source": [
    "%run 00_preprocessing_fuctions.ipynb"
   ]
  },
  {
   "cell_type": "code",
   "execution_count": 94,
   "id": "e4e6b841-ce34-4d7d-945b-d20b16279329",
   "metadata": {},
   "outputs": [],
   "source": [
    "lem = WordNetLemmatizer()\n",
    "sia = SentimentIntensityAnalyzer()"
   ]
  },
  {
   "cell_type": "code",
   "execution_count": 95,
   "id": "eaa546af-08a0-405f-bdd8-d032e96d7cd8",
   "metadata": {},
   "outputs": [
    {
     "data": {
      "application/vnd.jupyter.widget-view+json": {
       "model_id": "186aa4dfb1ae4b8192c6107329cc8c67",
       "version_major": 2,
       "version_minor": 0
      },
      "text/plain": [
       "  0%|          | 0/5701 [00:00<?, ?it/s]"
      ]
     },
     "metadata": {},
     "output_type": "display_data"
    }
   ],
   "source": [
    "polarity_results = {}\n",
    "all_filtered_texts = {}\n",
    "\n",
    "for index, row in tqdm(df.iterrows(), total=len(df)):\n",
    "    curr_id = row['id']\n",
    "    curr_text = row['text']\n",
    "    \n",
    "    # Tokenize, lemmatize and filter text by removing stopwords\n",
    "    # Also removing as many character names from text as I can...\n",
    "    cleaned_text = clean_text(curr_text)  # Clean text\n",
    "    preprocessed_text = preprocess_text(cleaned_text) \n",
    "    \n",
    "    # Store filtered text and filtered text polarity scores \n",
    "    all_filtered_texts[curr_id] = [preprocessed_text]\n",
    "    polarity_results[curr_id] = sia.polarity_scores(preprocessed_text)"
   ]
  },
  {
   "cell_type": "markdown",
   "id": "c13bc72f-5a3b-427f-b1b5-ddd9cc768e0b",
   "metadata": {},
   "source": [
    "Create a new dataframe with the new metadata and `genre` and `text` merged on `id`:"
   ]
  },
  {
   "cell_type": "code",
   "execution_count": 96,
   "id": "b752572e-e55b-4fa6-9fea-11283749a021",
   "metadata": {},
   "outputs": [
    {
     "data": {
      "text/html": [
       "<div>\n",
       "<style scoped>\n",
       "    .dataframe tbody tr th:only-of-type {\n",
       "        vertical-align: middle;\n",
       "    }\n",
       "\n",
       "    .dataframe tbody tr th {\n",
       "        vertical-align: top;\n",
       "    }\n",
       "\n",
       "    .dataframe thead th {\n",
       "        text-align: right;\n",
       "    }\n",
       "</style>\n",
       "<table border=\"1\" class=\"dataframe\">\n",
       "  <thead>\n",
       "    <tr style=\"text-align: right;\">\n",
       "      <th></th>\n",
       "      <th>id</th>\n",
       "      <th>genre</th>\n",
       "      <th>original_text</th>\n",
       "      <th>filtered_text</th>\n",
       "      <th>neg</th>\n",
       "      <th>neu</th>\n",
       "      <th>pos</th>\n",
       "      <th>compound</th>\n",
       "    </tr>\n",
       "  </thead>\n",
       "  <tbody>\n",
       "    <tr>\n",
       "      <th>0</th>\n",
       "      <td>1</td>\n",
       "      <td>Fantasy</td>\n",
       "      <td>Could you survive on your own in the wild, wit...</td>\n",
       "      <td>could survive wild every make sure live see mo...</td>\n",
       "      <td>0.262</td>\n",
       "      <td>0.618</td>\n",
       "      <td>0.120</td>\n",
       "      <td>-0.9504</td>\n",
       "    </tr>\n",
       "    <tr>\n",
       "      <th>1</th>\n",
       "      <td>2</td>\n",
       "      <td>Fantasy</td>\n",
       "      <td>Harry Potter has no idea how famous he is. Tha...</td>\n",
       "      <td>harry potter idea famous raised miserable aunt...</td>\n",
       "      <td>0.114</td>\n",
       "      <td>0.710</td>\n",
       "      <td>0.177</td>\n",
       "      <td>0.4588</td>\n",
       "    </tr>\n",
       "    <tr>\n",
       "      <th>2</th>\n",
       "      <td>3</td>\n",
       "      <td>Romance</td>\n",
       "      <td>About three things I was absolutely positive.F...</td>\n",
       "      <td>three thing absolutely positive first edward v...</td>\n",
       "      <td>0.000</td>\n",
       "      <td>0.642</td>\n",
       "      <td>0.358</td>\n",
       "      <td>0.9230</td>\n",
       "    </tr>\n",
       "    <tr>\n",
       "      <th>3</th>\n",
       "      <td>5</td>\n",
       "      <td>Romance</td>\n",
       "      <td>The Great Gatsby, F. Scott Fitzgerald's third ...</td>\n",
       "      <td>great gatsby scott fitzgerald third stand supr...</td>\n",
       "      <td>0.036</td>\n",
       "      <td>0.523</td>\n",
       "      <td>0.441</td>\n",
       "      <td>0.9819</td>\n",
       "    </tr>\n",
       "    <tr>\n",
       "      <th>4</th>\n",
       "      <td>7</td>\n",
       "      <td>Fantasy</td>\n",
       "      <td>In a hole in the ground there lived a hobbit. ...</td>\n",
       "      <td>hole ground lived hobbit nasty dirty wet hole ...</td>\n",
       "      <td>0.193</td>\n",
       "      <td>0.598</td>\n",
       "      <td>0.209</td>\n",
       "      <td>0.3612</td>\n",
       "    </tr>\n",
       "  </tbody>\n",
       "</table>\n",
       "</div>"
      ],
      "text/plain": [
       "   id    genre                                      original_text  \\\n",
       "0   1  Fantasy  Could you survive on your own in the wild, wit...   \n",
       "1   2  Fantasy  Harry Potter has no idea how famous he is. Tha...   \n",
       "2   3  Romance  About three things I was absolutely positive.F...   \n",
       "3   5  Romance  The Great Gatsby, F. Scott Fitzgerald's third ...   \n",
       "4   7  Fantasy  In a hole in the ground there lived a hobbit. ...   \n",
       "\n",
       "                                       filtered_text    neg    neu    pos  \\\n",
       "0  could survive wild every make sure live see mo...  0.262  0.618  0.120   \n",
       "1  harry potter idea famous raised miserable aunt...  0.114  0.710  0.177   \n",
       "2  three thing absolutely positive first edward v...  0.000  0.642  0.358   \n",
       "3  great gatsby scott fitzgerald third stand supr...  0.036  0.523  0.441   \n",
       "4  hole ground lived hobbit nasty dirty wet hole ...  0.193  0.598  0.209   \n",
       "\n",
       "   compound  \n",
       "0   -0.9504  \n",
       "1    0.4588  \n",
       "2    0.9230  \n",
       "3    0.9819  \n",
       "4    0.3612  "
      ]
     },
     "execution_count": 96,
     "metadata": {},
     "output_type": "execute_result"
    }
   ],
   "source": [
    "polarity_df = pd.DataFrame(polarity_results).T.reset_index().rename(columns={'index': 'id'})\n",
    "filtered_df = pd.DataFrame(all_filtered_texts).T.reset_index().rename(columns={0: 'filtered_text', 'index': 'id'})\n",
    "\n",
    "# Merge both dataframes with 'genre', 'text' and 'id' from orignal dataframe\n",
    "merged_df = filtered_df.merge(polarity_df, on='id', how='left')\n",
    "preprocessed_df = df[['id', 'genre', 'text']].merge(merged_df, on='id', how='left').rename(columns={'text': 'original_text'})\n",
    "preprocessed_df.head()"
   ]
  },
  {
   "cell_type": "code",
   "execution_count": 97,
   "id": "20918273-d5b2-40f3-bf24-d3bb4aa5d4bd",
   "metadata": {},
   "outputs": [
    {
     "data": {
      "text/plain": [
       "'could survive wild every make sure live see morning ruin place known north america lie nation panem shining capitol surrounded twelve outlying district capitol harsh cruel keep district line forcing send boy girl age twelve eighteen participate annual hunger game fight death live sixteen year old katniss everdeen life alone mother younger sister regard death sentence step forward take sister place game katniss close dead beforeand survival second nature without really meaning becomes contender win start making choice weight survival humanity life love'"
      ]
     },
     "execution_count": 97,
     "metadata": {},
     "output_type": "execute_result"
    }
   ],
   "source": [
    "preprocessed_df['filtered_text'][0]"
   ]
  },
  {
   "cell_type": "markdown",
   "id": "ab801977-8b33-4c5d-8d04-439dfbbb9775",
   "metadata": {},
   "source": [
    "### Remove `filtered_text` rows with a length less than 5"
   ]
  },
  {
   "cell_type": "code",
   "execution_count": 98,
   "id": "ad9ebf1f-0e4a-45bd-86f0-60d0ddba982c",
   "metadata": {},
   "outputs": [],
   "source": [
    "preprocessed_df = preprocessed_df[preprocessed_df['filtered_text'].apply(lambda x: True if len(x.split(' ')) >= 5 else False)]"
   ]
  },
  {
   "cell_type": "markdown",
   "id": "fa2ded90-6096-4511-8cbf-d8257aa9a92b",
   "metadata": {},
   "source": [
    "### Add sentiment column"
   ]
  },
  {
   "cell_type": "markdown",
   "id": "9f4e3432-1da0-4d13-b5a5-8aa4449607c9",
   "metadata": {},
   "source": [
    "A text is considered 'POSITIVE' if its compound score is >= 0.5, a text is considered 'NEGATIVE' if its compound score is <= 0, a text is considered neutral if its compound score is between (0, 0.49)"
   ]
  },
  {
   "cell_type": "code",
   "execution_count": 99,
   "id": "98240e60-f39e-4c99-adfd-169fb4755c71",
   "metadata": {},
   "outputs": [],
   "source": [
    "def calculate_sentiment(score: float) -> str:\n",
    "    if score >= 0.5:\n",
    "        return 'POSITIVE'\n",
    "    elif score >= 0 and score <= 0.49:\n",
    "        return 'NEUTRAL'\n",
    "    else:\n",
    "        return 'NEGATIVE'"
   ]
  },
  {
   "cell_type": "code",
   "execution_count": 100,
   "id": "d913c1b3-0b22-44cd-81bb-8cf8ebf01700",
   "metadata": {},
   "outputs": [],
   "source": [
    "preprocessed_df['text_sentiment'] = preprocessed_df['compound'].apply(calculate_sentiment)"
   ]
  },
  {
   "cell_type": "code",
   "execution_count": 101,
   "id": "97674860-7fef-4f0c-9824-31df881f4e2d",
   "metadata": {},
   "outputs": [
    {
     "data": {
      "text/html": [
       "<div>\n",
       "<style scoped>\n",
       "    .dataframe tbody tr th:only-of-type {\n",
       "        vertical-align: middle;\n",
       "    }\n",
       "\n",
       "    .dataframe tbody tr th {\n",
       "        vertical-align: top;\n",
       "    }\n",
       "\n",
       "    .dataframe thead th {\n",
       "        text-align: right;\n",
       "    }\n",
       "</style>\n",
       "<table border=\"1\" class=\"dataframe\">\n",
       "  <thead>\n",
       "    <tr style=\"text-align: right;\">\n",
       "      <th></th>\n",
       "      <th>id</th>\n",
       "      <th>genre</th>\n",
       "      <th>original_text</th>\n",
       "      <th>filtered_text</th>\n",
       "      <th>neg</th>\n",
       "      <th>neu</th>\n",
       "      <th>pos</th>\n",
       "      <th>compound</th>\n",
       "      <th>text_sentiment</th>\n",
       "    </tr>\n",
       "  </thead>\n",
       "  <tbody>\n",
       "    <tr>\n",
       "      <th>0</th>\n",
       "      <td>1</td>\n",
       "      <td>Fantasy</td>\n",
       "      <td>Could you survive on your own in the wild, wit...</td>\n",
       "      <td>could survive wild every make sure live see mo...</td>\n",
       "      <td>0.262</td>\n",
       "      <td>0.618</td>\n",
       "      <td>0.120</td>\n",
       "      <td>-0.9504</td>\n",
       "      <td>NEGATIVE</td>\n",
       "    </tr>\n",
       "    <tr>\n",
       "      <th>1</th>\n",
       "      <td>2</td>\n",
       "      <td>Fantasy</td>\n",
       "      <td>Harry Potter has no idea how famous he is. Tha...</td>\n",
       "      <td>harry potter idea famous raised miserable aunt...</td>\n",
       "      <td>0.114</td>\n",
       "      <td>0.710</td>\n",
       "      <td>0.177</td>\n",
       "      <td>0.4588</td>\n",
       "      <td>NEUTRAL</td>\n",
       "    </tr>\n",
       "    <tr>\n",
       "      <th>2</th>\n",
       "      <td>3</td>\n",
       "      <td>Romance</td>\n",
       "      <td>About three things I was absolutely positive.F...</td>\n",
       "      <td>three thing absolutely positive first edward v...</td>\n",
       "      <td>0.000</td>\n",
       "      <td>0.642</td>\n",
       "      <td>0.358</td>\n",
       "      <td>0.9230</td>\n",
       "      <td>POSITIVE</td>\n",
       "    </tr>\n",
       "  </tbody>\n",
       "</table>\n",
       "</div>"
      ],
      "text/plain": [
       "   id    genre                                      original_text  \\\n",
       "0   1  Fantasy  Could you survive on your own in the wild, wit...   \n",
       "1   2  Fantasy  Harry Potter has no idea how famous he is. Tha...   \n",
       "2   3  Romance  About three things I was absolutely positive.F...   \n",
       "\n",
       "                                       filtered_text    neg    neu    pos  \\\n",
       "0  could survive wild every make sure live see mo...  0.262  0.618  0.120   \n",
       "1  harry potter idea famous raised miserable aunt...  0.114  0.710  0.177   \n",
       "2  three thing absolutely positive first edward v...  0.000  0.642  0.358   \n",
       "\n",
       "   compound text_sentiment  \n",
       "0   -0.9504       NEGATIVE  \n",
       "1    0.4588        NEUTRAL  \n",
       "2    0.9230       POSITIVE  "
      ]
     },
     "execution_count": 101,
     "metadata": {},
     "output_type": "execute_result"
    }
   ],
   "source": [
    "preprocessed_df.head(3)"
   ]
  },
  {
   "cell_type": "markdown",
   "id": "55d46f0c-b49c-49e9-a1e5-360e19c6b4ed",
   "metadata": {},
   "source": [
    "### Add verb / adjective counts"
   ]
  },
  {
   "cell_type": "markdown",
   "id": "0fb9c281-761d-4331-929d-0dbb75e2e7ec",
   "metadata": {},
   "source": [
    "To be honest I have no idea how useful these columns will be be but...ah well."
   ]
  },
  {
   "cell_type": "code",
   "execution_count": 102,
   "id": "013d5404-14ac-4652-bb0b-1773aab23c14",
   "metadata": {},
   "outputs": [],
   "source": [
    "def count_verbs_in_sentence(text: str) -> int:\n",
    "    \"\"\"\n",
    "    Count words tagged as a verb and return count.\n",
    "    \"\"\"\n",
    "    valid_tags = ['VB', 'VBD', 'VBG', 'VBN', 'VBP', 'VBZ']\n",
    "    word_tags = pos_tag(text.split(' '))\n",
    "    verb_count = 0\n",
    "    for word, tag in word_tags:\n",
    "        if tag in valid_tags:\n",
    "            verb_count += 1\n",
    "\n",
    "    return verb_count\n",
    "\n",
    "\n",
    "def count_adjs_in_sentence(text: str) -> int:\n",
    "    \"\"\"\n",
    "    Count words tagged as an adjective and return count.\n",
    "    \"\"\"\n",
    "    valid_tags = ['JJ', 'JJR', 'JJS']\n",
    "    word_tags = pos_tag(text.split(' '))\n",
    "    adj_count = 0\n",
    "    for word, tag in word_tags:\n",
    "        if tag in valid_tags:\n",
    "            adj_count += 1\n",
    "\n",
    "    return adj_count\n",
    "\n",
    "\n",
    "def count_nouns_in_sentence(text: str) -> int:\n",
    "    \"\"\"\n",
    "    Count words tagged as a noun and return count.\n",
    "    \"\"\"\n",
    "    valid_tags = ['NN', 'NNP', 'NNS']\n",
    "    word_tags = pos_tag(text.split(' '))\n",
    "    noun_count = 0\n",
    "    for word, tag in word_tags:\n",
    "        if tag in valid_tags:\n",
    "            noun_count += 1\n",
    "\n",
    "    return noun_count"
   ]
  },
  {
   "cell_type": "code",
   "execution_count": 103,
   "id": "9d504c02-5c80-4289-9c64-330015dec4f9",
   "metadata": {},
   "outputs": [],
   "source": [
    "preprocessed_df['verb_count'] = preprocessed_df['filtered_text'].apply(count_verbs_in_sentence)\n",
    "preprocessed_df['adj_count'] = preprocessed_df['filtered_text'].apply(count_adjs_in_sentence)\n",
    "preprocessed_df['noun_count'] = preprocessed_df['filtered_text'].apply(count_nouns_in_sentence)"
   ]
  },
  {
   "cell_type": "code",
   "execution_count": 104,
   "id": "17722acc-26a2-4cd6-b000-30346b1f061c",
   "metadata": {},
   "outputs": [
    {
     "data": {
      "text/html": [
       "<div>\n",
       "<style scoped>\n",
       "    .dataframe tbody tr th:only-of-type {\n",
       "        vertical-align: middle;\n",
       "    }\n",
       "\n",
       "    .dataframe tbody tr th {\n",
       "        vertical-align: top;\n",
       "    }\n",
       "\n",
       "    .dataframe thead th {\n",
       "        text-align: right;\n",
       "    }\n",
       "</style>\n",
       "<table border=\"1\" class=\"dataframe\">\n",
       "  <thead>\n",
       "    <tr style=\"text-align: right;\">\n",
       "      <th></th>\n",
       "      <th>id</th>\n",
       "      <th>genre</th>\n",
       "      <th>original_text</th>\n",
       "      <th>filtered_text</th>\n",
       "      <th>neg</th>\n",
       "      <th>neu</th>\n",
       "      <th>pos</th>\n",
       "      <th>compound</th>\n",
       "      <th>text_sentiment</th>\n",
       "      <th>verb_count</th>\n",
       "      <th>adj_count</th>\n",
       "      <th>noun_count</th>\n",
       "    </tr>\n",
       "  </thead>\n",
       "  <tbody>\n",
       "    <tr>\n",
       "      <th>0</th>\n",
       "      <td>1</td>\n",
       "      <td>Fantasy</td>\n",
       "      <td>Could you survive on your own in the wild, wit...</td>\n",
       "      <td>could survive wild every make sure live see mo...</td>\n",
       "      <td>0.262</td>\n",
       "      <td>0.618</td>\n",
       "      <td>0.120</td>\n",
       "      <td>-0.9504</td>\n",
       "      <td>NEGATIVE</td>\n",
       "      <td>14</td>\n",
       "      <td>22</td>\n",
       "      <td>38</td>\n",
       "    </tr>\n",
       "    <tr>\n",
       "      <th>1</th>\n",
       "      <td>2</td>\n",
       "      <td>Fantasy</td>\n",
       "      <td>Harry Potter has no idea how famous he is. Tha...</td>\n",
       "      <td>harry potter idea famous raised miserable aunt...</td>\n",
       "      <td>0.114</td>\n",
       "      <td>0.710</td>\n",
       "      <td>0.177</td>\n",
       "      <td>0.4588</td>\n",
       "      <td>NEUTRAL</td>\n",
       "      <td>9</td>\n",
       "      <td>14</td>\n",
       "      <td>21</td>\n",
       "    </tr>\n",
       "    <tr>\n",
       "      <th>2</th>\n",
       "      <td>3</td>\n",
       "      <td>Romance</td>\n",
       "      <td>About three things I was absolutely positive.F...</td>\n",
       "      <td>three thing absolutely positive first edward v...</td>\n",
       "      <td>0.000</td>\n",
       "      <td>0.642</td>\n",
       "      <td>0.358</td>\n",
       "      <td>0.9230</td>\n",
       "      <td>POSITIVE</td>\n",
       "      <td>2</td>\n",
       "      <td>8</td>\n",
       "      <td>8</td>\n",
       "    </tr>\n",
       "  </tbody>\n",
       "</table>\n",
       "</div>"
      ],
      "text/plain": [
       "   id    genre                                      original_text  \\\n",
       "0   1  Fantasy  Could you survive on your own in the wild, wit...   \n",
       "1   2  Fantasy  Harry Potter has no idea how famous he is. Tha...   \n",
       "2   3  Romance  About three things I was absolutely positive.F...   \n",
       "\n",
       "                                       filtered_text    neg    neu    pos  \\\n",
       "0  could survive wild every make sure live see mo...  0.262  0.618  0.120   \n",
       "1  harry potter idea famous raised miserable aunt...  0.114  0.710  0.177   \n",
       "2  three thing absolutely positive first edward v...  0.000  0.642  0.358   \n",
       "\n",
       "   compound text_sentiment  verb_count  adj_count  noun_count  \n",
       "0   -0.9504       NEGATIVE          14         22          38  \n",
       "1    0.4588        NEUTRAL           9         14          21  \n",
       "2    0.9230       POSITIVE           2          8           8  "
      ]
     },
     "execution_count": 104,
     "metadata": {},
     "output_type": "execute_result"
    }
   ],
   "source": [
    "preprocessed_df.head(3)"
   ]
  },
  {
   "cell_type": "markdown",
   "id": "f2b0b88c-4dae-414d-a953-83c42e135dbd",
   "metadata": {},
   "source": [
    "### Finalize dataframes"
   ]
  },
  {
   "cell_type": "markdown",
   "id": "90b07cbe-1a4a-4cef-855c-795feb837c22",
   "metadata": {},
   "source": [
    "Combine all texts between corresponding genres and create a new genre corpus:"
   ]
  },
  {
   "cell_type": "code",
   "execution_count": 105,
   "id": "427bb2c6-7991-43ca-b420-0d7ae456933a",
   "metadata": {},
   "outputs": [],
   "source": [
    "unique_genres = preprocessed_df['genre'].unique()\n",
    "template = {}\n",
    "\n",
    "for genre in unique_genres:\n",
    "    genre_text = \" \".join(preprocessed_df[preprocessed_df['genre'] == genre]['filtered_text'].to_list())\n",
    "    template[genre] = [genre_text]"
   ]
  },
  {
   "cell_type": "code",
   "execution_count": 106,
   "id": "a3b9e615-31c7-421f-bcd0-a7d92dee9286",
   "metadata": {},
   "outputs": [
    {
     "data": {
      "text/html": [
       "<div>\n",
       "<style scoped>\n",
       "    .dataframe tbody tr th:only-of-type {\n",
       "        vertical-align: middle;\n",
       "    }\n",
       "\n",
       "    .dataframe tbody tr th {\n",
       "        vertical-align: top;\n",
       "    }\n",
       "\n",
       "    .dataframe thead th {\n",
       "        text-align: right;\n",
       "    }\n",
       "</style>\n",
       "<table border=\"1\" class=\"dataframe\">\n",
       "  <thead>\n",
       "    <tr style=\"text-align: right;\">\n",
       "      <th></th>\n",
       "      <th>genre</th>\n",
       "      <th>text</th>\n",
       "    </tr>\n",
       "  </thead>\n",
       "  <tbody>\n",
       "    <tr>\n",
       "      <th>0</th>\n",
       "      <td>Fantasy</td>\n",
       "      <td>could survive wild every make sure live see mo...</td>\n",
       "    </tr>\n",
       "    <tr>\n",
       "      <th>1</th>\n",
       "      <td>Romance</td>\n",
       "      <td>three thing absolutely positive first edward v...</td>\n",
       "    </tr>\n",
       "    <tr>\n",
       "      <th>2</th>\n",
       "      <td>Thriller</td>\n",
       "      <td>world renowned harvard symbologist robert lang...</td>\n",
       "    </tr>\n",
       "    <tr>\n",
       "      <th>3</th>\n",
       "      <td>Science Fiction</td>\n",
       "      <td>year come gone george orwell prophetic nightma...</td>\n",
       "    </tr>\n",
       "  </tbody>\n",
       "</table>\n",
       "</div>"
      ],
      "text/plain": [
       "             genre                                               text\n",
       "0          Fantasy  could survive wild every make sure live see mo...\n",
       "1          Romance  three thing absolutely positive first edward v...\n",
       "2         Thriller  world renowned harvard symbologist robert lang...\n",
       "3  Science Fiction  year come gone george orwell prophetic nightma..."
      ]
     },
     "execution_count": 106,
     "metadata": {},
     "output_type": "execute_result"
    }
   ],
   "source": [
    "# Genre corpus dataframe\n",
    "genre_df = pd.DataFrame(template).T.reset_index().rename(columns={'index': 'genre', 0: 'text'})\n",
    "_\n",
    "genre_df"
   ]
  },
  {
   "cell_type": "markdown",
   "id": "74a3f831-687c-46d2-88b8-f51be13d16e0",
   "metadata": {},
   "source": [
    "### Save data"
   ]
  },
  {
   "cell_type": "code",
   "execution_count": 107,
   "id": "8ff984a6-55c2-4e98-80f0-079a254a326c",
   "metadata": {},
   "outputs": [],
   "source": [
    "# Save processed datasets as csv files\n",
    "preprocessed_df.to_csv('processed_datasets/my_books_PROCESSED.csv', index=False)\n",
    "genre_df.to_csv('processed_datasets/my_genre_corpus.csv', index=False)"
   ]
  }
 ],
 "metadata": {
  "kernelspec": {
   "display_name": "fullstack",
   "language": "python",
   "name": "fullstack"
  },
  "language_info": {
   "codemirror_mode": {
    "name": "ipython",
    "version": 3
   },
   "file_extension": ".py",
   "mimetype": "text/x-python",
   "name": "python",
   "nbconvert_exporter": "python",
   "pygments_lexer": "ipython3",
   "version": "3.11.5"
  }
 },
 "nbformat": 4,
 "nbformat_minor": 5
}
