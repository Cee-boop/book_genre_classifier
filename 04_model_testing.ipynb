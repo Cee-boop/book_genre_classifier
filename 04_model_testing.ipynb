{
 "cells": [
  {
   "cell_type": "code",
   "execution_count": 1,
   "id": "9e297077-0874-42c2-99f6-24333b2a7195",
   "metadata": {},
   "outputs": [],
   "source": [
    "import warnings\n",
    "warnings.filterwarnings(\"ignore\")\n",
    "warnings.simplefilter(action='ignore', category=FutureWarning)\n",
    "_\n",
    "import pickle\n",
    "import pandas as pd\n",
    "import numpy as np\n",
    "from tqdm.notebook import tqdm"
   ]
  },
  {
   "cell_type": "code",
   "execution_count": 2,
   "id": "a8318d1a-61b2-496d-9c9f-0870a782b44b",
   "metadata": {},
   "outputs": [],
   "source": [
    "%run 00_preprocessing_fuctions.ipynb"
   ]
  },
  {
   "cell_type": "code",
   "execution_count": 3,
   "id": "dcf9d6b3-641a-4ea4-813a-f6a1f007985a",
   "metadata": {},
   "outputs": [],
   "source": [
    "FILE_PATHS = {\n",
    "    'processed': 'testing_datasets/processed_data.csv', \n",
    "    'compiled': 'testing_datasets/compiled_books.csv',\n",
    "}"
   ]
  },
  {
   "cell_type": "code",
   "execution_count": 4,
   "id": "e1152426-233d-4b77-8245-d266434c889a",
   "metadata": {},
   "outputs": [],
   "source": [
    "def load_model(file_name: str) -> object:\n",
    "    \"\"\"\n",
    "    Loads in previously saved model.\n",
    "    \"\"\"\n",
    "    with open(f\"models/{file_name}\", 'rb') as f:\n",
    "        return pickle.load(f)\n",
    "\n",
    "_\n",
    "le = load_model('label_encoder.pkl')  # Label encoder\n",
    "clf = load_model('classifier.pkl')  # Classifier\n",
    "vectorizer = load_model('vectorizer.pkl')  # TD-iDF"
   ]
  },
  {
   "cell_type": "markdown",
   "id": "f7605fd1-d2d1-4365-8108-f219e1765cd7",
   "metadata": {},
   "source": [
    "### Testing\n",
    "Using test data but also random book blurbs from the internet."
   ]
  },
  {
   "cell_type": "code",
   "execution_count": 5,
   "id": "fceed2f8-cc71-46c1-9197-10d3435cf623",
   "metadata": {},
   "outputs": [
    {
     "name": "stdout",
     "output_type": "stream",
     "text": [
      "(654, 5) \n",
      "\n"
     ]
    },
    {
     "data": {
      "text/html": [
       "<div>\n",
       "<style scoped>\n",
       "    .dataframe tbody tr th:only-of-type {\n",
       "        vertical-align: middle;\n",
       "    }\n",
       "\n",
       "    .dataframe tbody tr th {\n",
       "        vertical-align: top;\n",
       "    }\n",
       "\n",
       "    .dataframe thead th {\n",
       "        text-align: right;\n",
       "    }\n",
       "</style>\n",
       "<table border=\"1\" class=\"dataframe\">\n",
       "  <thead>\n",
       "    <tr style=\"text-align: right;\">\n",
       "      <th></th>\n",
       "      <th>title</th>\n",
       "      <th>author</th>\n",
       "      <th>genre</th>\n",
       "      <th>text</th>\n",
       "      <th>id</th>\n",
       "    </tr>\n",
       "  </thead>\n",
       "  <tbody>\n",
       "    <tr>\n",
       "      <th>0</th>\n",
       "      <td>The Wind in the Willows</td>\n",
       "      <td>Kenneth Grahame</td>\n",
       "      <td>Fantasy</td>\n",
       "      <td>The tales of Ratty, Mole, Badger and Toad. Whe...</td>\n",
       "      <td>1</td>\n",
       "    </tr>\n",
       "    <tr>\n",
       "      <th>1</th>\n",
       "      <td>Bridge to Terabithia</td>\n",
       "      <td>Katherine Paterson</td>\n",
       "      <td>Fantasy</td>\n",
       "      <td>The life of a ten-year-old boy in rural Virgin...</td>\n",
       "      <td>2</td>\n",
       "    </tr>\n",
       "    <tr>\n",
       "      <th>2</th>\n",
       "      <td>Through the Looking Glass</td>\n",
       "      <td>Lewis Carroll</td>\n",
       "      <td>Fantasy</td>\n",
       "      <td>In this sequel to Alice in Wonderland, Alice c...</td>\n",
       "      <td>3</td>\n",
       "    </tr>\n",
       "    <tr>\n",
       "      <th>3</th>\n",
       "      <td>The Hobbit, Or, There and Back Again</td>\n",
       "      <td>John Ronald Reuel Tolkien</td>\n",
       "      <td>Fantasy</td>\n",
       "      <td>Tolkien's \"The Hobbit,\" which first appeared o...</td>\n",
       "      <td>4</td>\n",
       "    </tr>\n",
       "    <tr>\n",
       "      <th>4</th>\n",
       "      <td>Throne of Glass</td>\n",
       "      <td>Sarah J. Maas</td>\n",
       "      <td>Fantasy</td>\n",
       "      <td>A hugely commercial, fabulously addictive fant...</td>\n",
       "      <td>5</td>\n",
       "    </tr>\n",
       "  </tbody>\n",
       "</table>\n",
       "</div>"
      ],
      "text/plain": [
       "                                  title                     author    genre  \\\n",
       "0               The Wind in the Willows            Kenneth Grahame  Fantasy   \n",
       "1                  Bridge to Terabithia         Katherine Paterson  Fantasy   \n",
       "2             Through the Looking Glass              Lewis Carroll  Fantasy   \n",
       "3  The Hobbit, Or, There and Back Again  John Ronald Reuel Tolkien  Fantasy   \n",
       "4                       Throne of Glass              Sarah J. Maas  Fantasy   \n",
       "\n",
       "                                                text  id  \n",
       "0  The tales of Ratty, Mole, Badger and Toad. Whe...   1  \n",
       "1  The life of a ten-year-old boy in rural Virgin...   2  \n",
       "2  In this sequel to Alice in Wonderland, Alice c...   3  \n",
       "3  Tolkien's \"The Hobbit,\" which first appeared o...   4  \n",
       "4  A hugely commercial, fabulously addictive fant...   5  "
      ]
     },
     "execution_count": 5,
     "metadata": {},
     "output_type": "execute_result"
    }
   ],
   "source": [
    "df = pd.read_csv(FILE_PATHS['compiled'])\n",
    "_\n",
    "print(df.shape, '\\n')\n",
    "df.head()"
   ]
  },
  {
   "cell_type": "code",
   "execution_count": 6,
   "id": "d8a9e91f-66fb-4713-a598-92fb47564999",
   "metadata": {},
   "outputs": [
    {
     "data": {
      "application/vnd.jupyter.widget-view+json": {
       "model_id": "7713dfa52276441d93b9345a2a92b77f",
       "version_major": 2,
       "version_minor": 0
      },
      "text/plain": [
       "  0%|          | 0/654 [00:00<?, ?it/s]"
      ]
     },
     "metadata": {},
     "output_type": "display_data"
    },
    {
     "data": {
      "text/html": [
       "<div>\n",
       "<style scoped>\n",
       "    .dataframe tbody tr th:only-of-type {\n",
       "        vertical-align: middle;\n",
       "    }\n",
       "\n",
       "    .dataframe tbody tr th {\n",
       "        vertical-align: top;\n",
       "    }\n",
       "\n",
       "    .dataframe thead th {\n",
       "        text-align: right;\n",
       "    }\n",
       "</style>\n",
       "<table border=\"1\" class=\"dataframe\">\n",
       "  <thead>\n",
       "    <tr style=\"text-align: right;\">\n",
       "      <th></th>\n",
       "      <th>title</th>\n",
       "      <th>author</th>\n",
       "      <th>genre</th>\n",
       "      <th>text</th>\n",
       "      <th>id</th>\n",
       "      <th>filtered_text</th>\n",
       "    </tr>\n",
       "  </thead>\n",
       "  <tbody>\n",
       "    <tr>\n",
       "      <th>241</th>\n",
       "      <td>The War of the Worlds</td>\n",
       "      <td>H. G. Wells</td>\n",
       "      <td>Science Fiction</td>\n",
       "      <td>The War of the Worlds (1898), by H. G. Wells, ...</td>\n",
       "      <td>242</td>\n",
       "      <td>war world well early describes invasion englan...</td>\n",
       "    </tr>\n",
       "    <tr>\n",
       "      <th>533</th>\n",
       "      <td>The Silence That Speaks</td>\n",
       "      <td>Andrea Kane</td>\n",
       "      <td>Thriller</td>\n",
       "      <td>Former Navy SEAL Marc Deveraux teams up with F...</td>\n",
       "      <td>534</td>\n",
       "      <td>former navy seal marc deveraux team forensic i...</td>\n",
       "    </tr>\n",
       "    <tr>\n",
       "      <th>641</th>\n",
       "      <td>Son of Rosemary</td>\n",
       "      <td>Ira Levin</td>\n",
       "      <td>Thriller</td>\n",
       "      <td>Son of Rosemary opens at the dawn of the new m...</td>\n",
       "      <td>642</td>\n",
       "      <td>son rosemary open dawn millennium human hope s...</td>\n",
       "    </tr>\n",
       "    <tr>\n",
       "      <th>343</th>\n",
       "      <td>Modern Biology &amp; Visions of Humanity</td>\n",
       "      <td>European Group on Life Sciences</td>\n",
       "      <td>Science Fiction</td>\n",
       "      <td>How do the most recent developments in the lif...</td>\n",
       "      <td>344</td>\n",
       "      <td>recent development life affect understanding h...</td>\n",
       "    </tr>\n",
       "    <tr>\n",
       "      <th>339</th>\n",
       "      <td>The \"Thaw\" in Bulgarian Literature</td>\n",
       "      <td>Atanas Slavov</td>\n",
       "      <td>Science Fiction</td>\n",
       "      <td>A critical review of post-World War II Bulgari...</td>\n",
       "      <td>340</td>\n",
       "      <td>critical review post world war bulgarian liter...</td>\n",
       "    </tr>\n",
       "  </tbody>\n",
       "</table>\n",
       "</div>"
      ],
      "text/plain": [
       "                                    title                           author  \\\n",
       "241                 The War of the Worlds                      H. G. Wells   \n",
       "533               The Silence That Speaks                      Andrea Kane   \n",
       "641                       Son of Rosemary                        Ira Levin   \n",
       "343  Modern Biology & Visions of Humanity  European Group on Life Sciences   \n",
       "339    The \"Thaw\" in Bulgarian Literature                    Atanas Slavov   \n",
       "\n",
       "               genre                                               text   id  \\\n",
       "241  Science Fiction  The War of the Worlds (1898), by H. G. Wells, ...  242   \n",
       "533         Thriller  Former Navy SEAL Marc Deveraux teams up with F...  534   \n",
       "641         Thriller  Son of Rosemary opens at the dawn of the new m...  642   \n",
       "343  Science Fiction  How do the most recent developments in the lif...  344   \n",
       "339  Science Fiction  A critical review of post-World War II Bulgari...  340   \n",
       "\n",
       "                                         filtered_text  \n",
       "241  war world well early describes invasion englan...  \n",
       "533  former navy seal marc deveraux team forensic i...  \n",
       "641  son rosemary open dawn millennium human hope s...  \n",
       "343  recent development life affect understanding h...  \n",
       "339  critical review post world war bulgarian liter...  "
      ]
     },
     "execution_count": 6,
     "metadata": {},
     "output_type": "execute_result"
    }
   ],
   "source": [
    "# Preprocess text\n",
    "for index, row in tqdm(df.iterrows(), total=len(df)):\n",
    "    try:\n",
    "        cleaned_text = clean_text(row['original_text'])\n",
    "    except:\n",
    "        cleaned_text = clean_text(row['text'])\n",
    "    processed_text = preprocess_text(cleaned_text)\n",
    "    df.loc[index, 'filtered_text'] = processed_text\n",
    "_\n",
    "df.sample(5)"
   ]
  },
  {
   "cell_type": "code",
   "execution_count": 7,
   "id": "1e905458-3e1f-44bf-b3b0-7d925f4ef43c",
   "metadata": {},
   "outputs": [],
   "source": [
    "# Encode target labels\n",
    "df['genres_encoded'] = le.transform(df['genre'])"
   ]
  },
  {
   "cell_type": "code",
   "execution_count": 8,
   "id": "b203a3c4-4548-4188-a6f7-63e4b8da2394",
   "metadata": {},
   "outputs": [
    {
     "name": "stdout",
     "output_type": "stream",
     "text": [
      "X shape: (654,)\n",
      "y shape: (654,)\n"
     ]
    }
   ],
   "source": [
    "X, y = df['filtered_text'], df['genres_encoded']\n",
    "_\n",
    "print(f\"X shape: {X.shape}\")\n",
    "print(f\"y shape: {y.shape}\")"
   ]
  },
  {
   "cell_type": "code",
   "execution_count": 9,
   "id": "63540e44-96d8-4fa9-a6a9-f2b568e0bbd3",
   "metadata": {},
   "outputs": [
    {
     "name": "stdout",
     "output_type": "stream",
     "text": [
      "Model: ComplementNB\n",
      "Accuracy score: 0.7155963302752294\n",
      "Recall score: 0.7346340614862944\n",
      "Precision score: 0.7234624040223439\n",
      "f1 score: 0.7121217604080508\n",
      "Log loss 0.989741009292532\n",
      "ROC AUC: 0.9201729099434937\n"
     ]
    }
   ],
   "source": [
    "# Run predictions\n",
    "X = tdm_converter(vectorizer, X)\n",
    "y_pred = clf.predict(X)\n",
    "y_probas = clf.predict_proba(X)\n",
    "\n",
    "# Display results\n",
    "display_metrics(clf.__class__.__name__, y, y_pred, y_probas)"
   ]
  },
  {
   "cell_type": "code",
   "execution_count": 10,
   "id": "891dccbe-0878-47d5-87f6-11e1926351f4",
   "metadata": {},
   "outputs": [
    {
     "data": {
      "text/html": [
       "<div>\n",
       "<style scoped>\n",
       "    .dataframe tbody tr th:only-of-type {\n",
       "        vertical-align: middle;\n",
       "    }\n",
       "\n",
       "    .dataframe tbody tr th {\n",
       "        vertical-align: top;\n",
       "    }\n",
       "\n",
       "    .dataframe thead th {\n",
       "        text-align: right;\n",
       "    }\n",
       "</style>\n",
       "<table border=\"1\" class=\"dataframe\">\n",
       "  <thead>\n",
       "    <tr style=\"text-align: right;\">\n",
       "      <th></th>\n",
       "      <th>True</th>\n",
       "      <th>Pred</th>\n",
       "    </tr>\n",
       "  </thead>\n",
       "  <tbody>\n",
       "    <tr>\n",
       "      <th>199</th>\n",
       "      <td>2</td>\n",
       "      <td>2</td>\n",
       "    </tr>\n",
       "    <tr>\n",
       "      <th>573</th>\n",
       "      <td>3</td>\n",
       "      <td>3</td>\n",
       "    </tr>\n",
       "    <tr>\n",
       "      <th>458</th>\n",
       "      <td>1</td>\n",
       "      <td>1</td>\n",
       "    </tr>\n",
       "    <tr>\n",
       "      <th>603</th>\n",
       "      <td>3</td>\n",
       "      <td>3</td>\n",
       "    </tr>\n",
       "    <tr>\n",
       "      <th>351</th>\n",
       "      <td>2</td>\n",
       "      <td>1</td>\n",
       "    </tr>\n",
       "    <tr>\n",
       "      <th>623</th>\n",
       "      <td>3</td>\n",
       "      <td>3</td>\n",
       "    </tr>\n",
       "    <tr>\n",
       "      <th>204</th>\n",
       "      <td>2</td>\n",
       "      <td>2</td>\n",
       "    </tr>\n",
       "  </tbody>\n",
       "</table>\n",
       "</div>"
      ],
      "text/plain": [
       "     True  Pred\n",
       "199     2     2\n",
       "573     3     3\n",
       "458     1     1\n",
       "603     3     3\n",
       "351     2     1\n",
       "623     3     3\n",
       "204     2     2"
      ]
     },
     "execution_count": 10,
     "metadata": {},
     "output_type": "execute_result"
    }
   ],
   "source": [
    "results = pd.DataFrame({'True': y, 'Pred': y_pred})\n",
    "_\n",
    "results.sample(7)"
   ]
  },
  {
   "cell_type": "markdown",
   "id": "159b4f85-08b2-4575-bd8a-beab66000f56",
   "metadata": {},
   "source": [
    "### Individual testing"
   ]
  },
  {
   "cell_type": "code",
   "execution_count": 24,
   "id": "024788cc-9493-4d5d-b01e-c8d2ab30f0f4",
   "metadata": {},
   "outputs": [
    {
     "data": {
      "text/plain": [
       "\"It's been thirty years since Antonie's and Melanie's mother died. But when a visit to the sea at Noirmoutier Island triggers painful memories of their haunting childhood--and Melanie lies in the hospital recovering from a near fatal accident--Antoine must confront his past and also his troubled relationships with his own children.\""
      ]
     },
     "execution_count": 24,
     "metadata": {},
     "output_type": "execute_result"
    }
   ],
   "source": [
    "row = df.sample(1)\n",
    "try:\n",
    "    text, genre_label = row['text'].item(), row['genre'].item()\n",
    "except:\n",
    "    text, genre_label = row['original_text'].item(), row['genre'].item()\n",
    "_\n",
    "text"
   ]
  },
  {
   "cell_type": "code",
   "execution_count": 25,
   "id": "59f3bebf-9271-4e59-9116-b210afec0b5b",
   "metadata": {
    "jupyter": {
     "source_hidden": true
    }
   },
   "outputs": [],
   "source": [
    "# # Just testing random book synopses from Goodreads\n",
    "# text = \"\"\"\n",
    "# Six days ago, astronaut Mark Watney became one of the first people to walk on Mars.\n",
    "\n",
    "# Now, he’s sure he’ll be the first person to die there.\n",
    "\n",
    "# After a dust storm nearly kills him and forces his crew to evacuate while thinking him dead, Mark finds himself stranded and completely alone with no way to even signal Earth that he’s alive—and even if he could get word out, his supplies would be gone long before a rescue could arrive.\n",
    "\n",
    "# Chances are, though, he won’t have time to starve to death. The damaged machinery, unforgiving environment, or plain-old “human error” are much more likely to kill him first.\n",
    "\n",
    "# But Mark isn’t ready to give up yet. Drawing on his ingenuity, his engineering skills — and a relentless, dogged refusal to quit — he steadfastly confronts one seemingly insurmountable obstacle after the next. Will his resourcefulness be enough to overcome the impossible odds against him?\n",
    "# \"\"\"\n",
    "# genre_label = 'Science Fiction'\n",
    "# _\n",
    "# text"
   ]
  },
  {
   "cell_type": "code",
   "execution_count": 26,
   "id": "a4ae492a-889b-4a47-ab5a-2ba31c85a94d",
   "metadata": {},
   "outputs": [
    {
     "data": {
      "text/plain": [
       "'thirty year since antonie melanie mother died visit sea noirmoutier island trigger painful memory haunting childhood melanie lie hospital recovering near fatal accident antoine must confront past also troubled relationship child'"
      ]
     },
     "execution_count": 26,
     "metadata": {},
     "output_type": "execute_result"
    }
   ],
   "source": [
    "# Preprocess text\n",
    "text = clean_text(text)\n",
    "text = preprocess_text(text)\n",
    "_\n",
    "text"
   ]
  },
  {
   "cell_type": "code",
   "execution_count": 27,
   "id": "d7b98ce0-b85b-4dea-9f65-2f84abe56878",
   "metadata": {},
   "outputs": [
    {
     "name": "stdout",
     "output_type": "stream",
     "text": [
      "true: Thriller\n",
      "pred: Thriller\n"
     ]
    },
    {
     "data": {
      "text/plain": [
       "array([[0.15323036, 0.30065117, 0.20462533, 0.34149314]])"
      ]
     },
     "execution_count": 27,
     "metadata": {},
     "output_type": "execute_result"
    }
   ],
   "source": [
    "# Run predictions\n",
    "text_tdm = tdm_converter(vectorizer, [text])\n",
    "prediction = clf.predict(text_tdm)\n",
    "probas = clf.predict_proba(text_tdm)\n",
    "_\n",
    "label_keys = {i:le.classes_[i] for i in range(len(le.classes_))}\n",
    "print(f\"true: {genre_label}\\npred: {label_keys[prediction[0]]}\")\n",
    "# {0: 'Fantasy', 1: 'Romance', 2: 'Science Fiction', 3: 'Thriller'}\n",
    "probas"
   ]
  },
  {
   "cell_type": "code",
   "execution_count": null,
   "id": "69d046e8-95d9-4b3b-a83c-43729a394aca",
   "metadata": {},
   "outputs": [],
   "source": []
  }
 ],
 "metadata": {
  "kernelspec": {
   "display_name": "fullstack",
   "language": "python",
   "name": "fullstack"
  },
  "language_info": {
   "codemirror_mode": {
    "name": "ipython",
    "version": 3
   },
   "file_extension": ".py",
   "mimetype": "text/x-python",
   "name": "python",
   "nbconvert_exporter": "python",
   "pygments_lexer": "ipython3",
   "version": "3.11.5"
  }
 },
 "nbformat": 4,
 "nbformat_minor": 5
}
