{
 "cells": [
  {
   "cell_type": "code",
   "execution_count": 2,
   "id": "85d2bafd-68b1-4101-a316-58a40e15f44d",
   "metadata": {},
   "outputs": [],
   "source": [
    "import re\n",
    "import time\n",
    "import requests\n",
    "import numpy as np\n",
    "import pandas as pd\n",
    "from tqdm.notebook import tqdm\n",
    "_\n",
    "# Web scraping\n",
    "from bs4 import BeautifulSoup"
   ]
  },
  {
   "cell_type": "code",
   "execution_count": 4,
   "id": "d5c3b0ad-9a16-4499-9ca5-880fc8f2ec0e",
   "metadata": {},
   "outputs": [
    {
     "name": "stdout",
     "output_type": "stream",
     "text": [
      "(10000, 7)\n"
     ]
    },
    {
     "data": {
      "text/html": [
       "<div>\n",
       "<style scoped>\n",
       "    .dataframe tbody tr th:only-of-type {\n",
       "        vertical-align: middle;\n",
       "    }\n",
       "\n",
       "    .dataframe tbody tr th {\n",
       "        vertical-align: top;\n",
       "    }\n",
       "\n",
       "    .dataframe thead th {\n",
       "        text-align: right;\n",
       "    }\n",
       "</style>\n",
       "<table border=\"1\" class=\"dataframe\">\n",
       "  <thead>\n",
       "    <tr style=\"text-align: right;\">\n",
       "      <th></th>\n",
       "      <th>id</th>\n",
       "      <th>book_id</th>\n",
       "      <th>isbn</th>\n",
       "      <th>title</th>\n",
       "      <th>author</th>\n",
       "      <th>genre</th>\n",
       "      <th>text</th>\n",
       "    </tr>\n",
       "  </thead>\n",
       "  <tbody>\n",
       "    <tr>\n",
       "      <th>0</th>\n",
       "      <td>1</td>\n",
       "      <td>2767052</td>\n",
       "      <td>439023483</td>\n",
       "      <td>The Hunger Games</td>\n",
       "      <td>Suzanne Collins</td>\n",
       "      <td>Fantasy</td>\n",
       "      <td>Could you survive on your own in the wild, wit...</td>\n",
       "    </tr>\n",
       "    <tr>\n",
       "      <th>1</th>\n",
       "      <td>2</td>\n",
       "      <td>3</td>\n",
       "      <td>439554934</td>\n",
       "      <td>Harry Potter and the Sorcerers Stone</td>\n",
       "      <td>J.K. Rowling</td>\n",
       "      <td>Fantasy</td>\n",
       "      <td>Harry Potter has no idea how famous he is. Tha...</td>\n",
       "    </tr>\n",
       "    <tr>\n",
       "      <th>2</th>\n",
       "      <td>3</td>\n",
       "      <td>41865</td>\n",
       "      <td>316015849</td>\n",
       "      <td>Twilight</td>\n",
       "      <td>Stephenie Meyer</td>\n",
       "      <td>Romance</td>\n",
       "      <td>About three things I was absolutely positive.F...</td>\n",
       "    </tr>\n",
       "    <tr>\n",
       "      <th>3</th>\n",
       "      <td>4</td>\n",
       "      <td>2657</td>\n",
       "      <td>61120081</td>\n",
       "      <td>To Kill a Mockingbird</td>\n",
       "      <td>Harper Lee</td>\n",
       "      <td>NaN</td>\n",
       "      <td>The unforgettable novel of a childhood in a sl...</td>\n",
       "    </tr>\n",
       "    <tr>\n",
       "      <th>4</th>\n",
       "      <td>5</td>\n",
       "      <td>4671</td>\n",
       "      <td>743273567</td>\n",
       "      <td>The Great Gatsby</td>\n",
       "      <td>F. Scott Fitzgerald</td>\n",
       "      <td>Romance</td>\n",
       "      <td>The Great Gatsby, F. Scott Fitzgerald's third ...</td>\n",
       "    </tr>\n",
       "  </tbody>\n",
       "</table>\n",
       "</div>"
      ],
      "text/plain": [
       "   id  book_id       isbn                                 title  \\\n",
       "0   1  2767052  439023483                      The Hunger Games   \n",
       "1   2        3  439554934  Harry Potter and the Sorcerers Stone   \n",
       "2   3    41865  316015849                              Twilight   \n",
       "3   4     2657   61120081                 To Kill a Mockingbird   \n",
       "4   5     4671  743273567                      The Great Gatsby   \n",
       "\n",
       "                author    genre  \\\n",
       "0      Suzanne Collins  Fantasy   \n",
       "1         J.K. Rowling  Fantasy   \n",
       "2      Stephenie Meyer  Romance   \n",
       "3           Harper Lee      NaN   \n",
       "4  F. Scott Fitzgerald  Romance   \n",
       "\n",
       "                                                text  \n",
       "0  Could you survive on your own in the wild, wit...  \n",
       "1  Harry Potter has no idea how famous he is. Tha...  \n",
       "2  About three things I was absolutely positive.F...  \n",
       "3  The unforgettable novel of a childhood in a sl...  \n",
       "4  The Great Gatsby, F. Scott Fitzgerald's third ...  "
      ]
     },
     "execution_count": 4,
     "metadata": {},
     "output_type": "execute_result"
    }
   ],
   "source": [
    "# Load in a dataset\n",
    "df = pd.read_csv(f\"processed_datasets/my_books_CLEANED.csv\")\n",
    "_\n",
    "print(df.shape)\n",
    "df.head()"
   ]
  },
  {
   "cell_type": "markdown",
   "id": "662a96d3-dc29-4f26-8cb7-dbacd544464d",
   "metadata": {},
   "source": [
    "### Goodreads scraper"
   ]
  },
  {
   "cell_type": "markdown",
   "id": "d4803746-9264-48c8-922e-7cb6db6300b7",
   "metadata": {},
   "source": [
    "Just a shoddy put together scraper that can retrieve blurbs and genres for each book."
   ]
  },
  {
   "cell_type": "code",
   "execution_count": 5,
   "id": "9151f598-f514-42d2-8f3a-215f02b8dd58",
   "metadata": {},
   "outputs": [],
   "source": [
    "PATH = \"https://www.goodreads.com/book/show/\""
   ]
  },
  {
   "cell_type": "code",
   "execution_count": 6,
   "id": "56fc8875-da99-43b0-8107-9d9819ae7f40",
   "metadata": {},
   "outputs": [],
   "source": [
    "def find_genre(genre_list: list) -> str:\n",
    "    \"\"\"\n",
    "    Determines if a book genre is valid or not.\n",
    "    \"\"\"\n",
    "    valid_genres = ['Science Fiction', 'Romance', 'Thriller', 'Fantasy']\n",
    "    for genre in genre_list:\n",
    "        if genre in valid_genres:\n",
    "            if genre == 'Horror' or genre == 'Crime' or genre == 'Mystery':\n",
    "                return 'Thriller'\n",
    "            return genre\n",
    "    \n",
    "    # If no genre is in valid_genres:\n",
    "    return np.nan"
   ]
  },
  {
   "cell_type": "code",
   "execution_count": 35,
   "id": "ebd86fe2-93bb-4ce0-81e9-7655ec856328",
   "metadata": {},
   "outputs": [],
   "source": [
    "# for index, row in tqdm(df.iloc[9000:].iterrows(), total=1000):\n",
    "#     book_title = row['title'].lower().replace(' ', '-')  # Reformat string\n",
    "#     book_id = row['book_id']\n",
    "\n",
    "#     try:\n",
    "#         # Connect to webpage\n",
    "#         book_url = PATH + f\"{book_id}-{book_title}\"\n",
    "#         book_page = requests.get(book_url)\n",
    "#         # Scrape info\n",
    "#         soup = BeautifulSoup(book_page.content, 'html.parser')\n",
    "#         book_description = soup.find_all('span', {'class': 'Formatted'})[0].text\n",
    "#         book_genres = [tag.text for tag in soup.find_all('span', {'class': 'BookPageMetadataSection__genreButton'})]\n",
    "#         selected_genre = find_genre(book_genres)\n",
    "#         # Store values in dataframe\n",
    "#         df.loc[index, 'genre'] = selected_genre\n",
    "#         df.loc[index, 'text'] = book_description\n",
    "#     except Exception as e:\n",
    "#         print(f\"Error occured at index pos: {index}, {row['title']}: {e}\")"
   ]
  },
  {
   "cell_type": "code",
   "execution_count": 29,
   "id": "27484fbc-1153-4844-bedb-e4a54b6c8d66",
   "metadata": {},
   "outputs": [
    {
     "data": {
      "text/plain": [
       "genre\n",
       "Fantasy            2532\n",
       "Romance            1904\n",
       "Thriller           1225\n",
       "Science Fiction     589\n",
       "Name: count, dtype: int64"
      ]
     },
     "execution_count": 29,
     "metadata": {},
     "output_type": "execute_result"
    }
   ],
   "source": [
    "df['genre'].value_counts()"
   ]
  },
  {
   "cell_type": "code",
   "execution_count": 33,
   "id": "7700dfd7-2cfd-4975-9814-f58d6250c478",
   "metadata": {},
   "outputs": [],
   "source": [
    "# Drop rows with NaN values\n",
    "df = df.dropna()"
   ]
  },
  {
   "cell_type": "code",
   "execution_count": 34,
   "id": "4d76996b-3107-4be7-b55c-a6d684dabc88",
   "metadata": {},
   "outputs": [],
   "source": [
    "df.to_csv('original_datasets/my_books_CLEANED.csv', index=False)"
   ]
  }
 ],
 "metadata": {
  "kernelspec": {
   "display_name": "fullstack",
   "language": "python",
   "name": "fullstack"
  },
  "language_info": {
   "codemirror_mode": {
    "name": "ipython",
    "version": 3
   },
   "file_extension": ".py",
   "mimetype": "text/x-python",
   "name": "python",
   "nbconvert_exporter": "python",
   "pygments_lexer": "ipython3",
   "version": "3.11.5"
  }
 },
 "nbformat": 4,
 "nbformat_minor": 5
}
